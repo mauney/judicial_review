{
 "cells": [
  {
   "cell_type": "code",
   "execution_count": 1,
   "metadata": {},
   "outputs": [],
   "source": [
    "import numpy as np\n",
    "import pandas as pd\n",
    "import category_encoders as ce\n",
    "from sklearn.model_selection import train_test_split\n",
    "from sklearn.pipeline import make_pipeline\n",
    "from sklearn.ensemble import RandomForestClassifier\n",
    "from sklearn.metrics import accuracy_score, roc_auc_score\n",
    "from sklearn.metrics import confusion_matrix, classification_report\n",
    "from sklearn.utils.multiclass import unique_labels"
   ]
  },
  {
   "cell_type": "code",
   "execution_count": 2,
   "metadata": {},
   "outputs": [
    {
     "name": "stdout",
     "output_type": "stream",
     "text": [
      "(1308, 25)\n"
     ]
    },
    {
     "data": {
      "text/html": [
       "<div>\n",
       "<style scoped>\n",
       "    .dataframe tbody tr th:only-of-type {\n",
       "        vertical-align: middle;\n",
       "    }\n",
       "\n",
       "    .dataframe tbody tr th {\n",
       "        vertical-align: top;\n",
       "    }\n",
       "\n",
       "    .dataframe thead th {\n",
       "        text-align: right;\n",
       "    }\n",
       "</style>\n",
       "<table border=\"1\" class=\"dataframe\">\n",
       "  <thead>\n",
       "    <tr style=\"text-align: right;\">\n",
       "      <th></th>\n",
       "      <th>case</th>\n",
       "      <th>citation</th>\n",
       "      <th>date</th>\n",
       "      <th>year</th>\n",
       "      <th>decade</th>\n",
       "      <th>decision</th>\n",
       "      <th>decision2</th>\n",
       "      <th>effect</th>\n",
       "      <th>stat_name</th>\n",
       "      <th>stat_cite</th>\n",
       "      <th>...</th>\n",
       "      <th>area2</th>\n",
       "      <th>lndmrk</th>\n",
       "      <th>lnddtl</th>\n",
       "      <th>att_gen</th>\n",
       "      <th>cert</th>\n",
       "      <th>reversd</th>\n",
       "      <th>crs</th>\n",
       "      <th>gvt_prty</th>\n",
       "      <th>dissent</th>\n",
       "      <th>h_ct</th>\n",
       "    </tr>\n",
       "  </thead>\n",
       "  <tbody>\n",
       "    <tr>\n",
       "      <th>0</th>\n",
       "      <td>United States v. Yale Todd</td>\n",
       "      <td>*54 U.S. 40, 52</td>\n",
       "      <td>2/17/1794</td>\n",
       "      <td>1794</td>\n",
       "      <td>1790</td>\n",
       "      <td>2</td>\n",
       "      <td>1</td>\n",
       "      <td>struck down on face</td>\n",
       "      <td>Invalid Pensions Act</td>\n",
       "      <td>1 Stat. 243</td>\n",
       "      <td>...</td>\n",
       "      <td>NaN</td>\n",
       "      <td>0.0</td>\n",
       "      <td>0.0</td>\n",
       "      <td>1</td>\n",
       "      <td>0</td>\n",
       "      <td>0.0</td>\n",
       "      <td>0.0</td>\n",
       "      <td>1</td>\n",
       "      <td>0</td>\n",
       "      <td>0</td>\n",
       "    </tr>\n",
       "    <tr>\n",
       "      <th>1</th>\n",
       "      <td>Penhallow v. Doane's Adm'rs</td>\n",
       "      <td>003 U.S. 054</td>\n",
       "      <td>2/24/1795</td>\n",
       "      <td>1795</td>\n",
       "      <td>1790</td>\n",
       "      <td>0</td>\n",
       "      <td>0</td>\n",
       "      <td>upheld</td>\n",
       "      <td>Court of Appeals Resolution</td>\n",
       "      <td>17 JCC 459</td>\n",
       "      <td>...</td>\n",
       "      <td>NaN</td>\n",
       "      <td>0.0</td>\n",
       "      <td>0.0</td>\n",
       "      <td>1</td>\n",
       "      <td>0</td>\n",
       "      <td>1.0</td>\n",
       "      <td>0.0</td>\n",
       "      <td>0</td>\n",
       "      <td>0</td>\n",
       "      <td>1</td>\n",
       "    </tr>\n",
       "    <tr>\n",
       "      <th>2</th>\n",
       "      <td>Hylton v. United States</td>\n",
       "      <td>003 U.S. 171</td>\n",
       "      <td>3/8/1796</td>\n",
       "      <td>1796</td>\n",
       "      <td>1790</td>\n",
       "      <td>0</td>\n",
       "      <td>0</td>\n",
       "      <td>upheld</td>\n",
       "      <td>Carriage Tax Act</td>\n",
       "      <td>1 Stat. 373</td>\n",
       "      <td>...</td>\n",
       "      <td>NaN</td>\n",
       "      <td>0.0</td>\n",
       "      <td>0.0</td>\n",
       "      <td>1</td>\n",
       "      <td>0</td>\n",
       "      <td>0.0</td>\n",
       "      <td>0.0</td>\n",
       "      <td>1</td>\n",
       "      <td>0</td>\n",
       "      <td>1</td>\n",
       "    </tr>\n",
       "    <tr>\n",
       "      <th>3</th>\n",
       "      <td>United States v. La Vengeance</td>\n",
       "      <td>003 U.S. 297</td>\n",
       "      <td>8/11/1796</td>\n",
       "      <td>1796</td>\n",
       "      <td>1790</td>\n",
       "      <td>0</td>\n",
       "      <td>0</td>\n",
       "      <td>upheld</td>\n",
       "      <td>Arms Exportation Act</td>\n",
       "      <td>1 Stat. 369</td>\n",
       "      <td>...</td>\n",
       "      <td>1.0</td>\n",
       "      <td>0.0</td>\n",
       "      <td>0.0</td>\n",
       "      <td>1</td>\n",
       "      <td>0</td>\n",
       "      <td>0.0</td>\n",
       "      <td>0.0</td>\n",
       "      <td>1</td>\n",
       "      <td>0</td>\n",
       "      <td>1</td>\n",
       "    </tr>\n",
       "    <tr>\n",
       "      <th>4</th>\n",
       "      <td>Mossman v. Higginson</td>\n",
       "      <td>004 U.S. 12</td>\n",
       "      <td>8/11/1800</td>\n",
       "      <td>1800</td>\n",
       "      <td>1800</td>\n",
       "      <td>1</td>\n",
       "      <td>1</td>\n",
       "      <td>struck down as applied</td>\n",
       "      <td>Judiciary Act of 1789</td>\n",
       "      <td>1 Stat. 73</td>\n",
       "      <td>...</td>\n",
       "      <td>6.0</td>\n",
       "      <td>1.0</td>\n",
       "      <td>0.0</td>\n",
       "      <td>0</td>\n",
       "      <td>0</td>\n",
       "      <td>0.0</td>\n",
       "      <td>0.0</td>\n",
       "      <td>0</td>\n",
       "      <td>0</td>\n",
       "      <td>0</td>\n",
       "    </tr>\n",
       "  </tbody>\n",
       "</table>\n",
       "<p>5 rows × 25 columns</p>\n",
       "</div>"
      ],
      "text/plain": [
       "                            case         citation       date  year  decade  \\\n",
       "0     United States v. Yale Todd  *54 U.S. 40, 52  2/17/1794  1794    1790   \n",
       "1    Penhallow v. Doane's Adm'rs     003 U.S. 054  2/24/1795  1795    1790   \n",
       "2        Hylton v. United States     003 U.S. 171   3/8/1796  1796    1790   \n",
       "3  United States v. La Vengeance     003 U.S. 297  8/11/1796  1796    1790   \n",
       "4           Mossman v. Higginson      004 U.S. 12  8/11/1800  1800    1800   \n",
       "\n",
       "   decision  decision2                  effect                    stat_name  \\\n",
       "0         2          1     struck down on face         Invalid Pensions Act   \n",
       "1         0          0                  upheld  Court of Appeals Resolution   \n",
       "2         0          0                  upheld             Carriage Tax Act   \n",
       "3         0          0                  upheld         Arms Exportation Act   \n",
       "4         1          1  struck down as applied        Judiciary Act of 1789   \n",
       "\n",
       "     stat_cite  ... area2 lndmrk  lnddtl  att_gen  cert  reversd  crs  \\\n",
       "0  1 Stat. 243  ...   NaN    0.0     0.0        1     0      0.0  0.0   \n",
       "1   17 JCC 459  ...   NaN    0.0     0.0        1     0      1.0  0.0   \n",
       "2  1 Stat. 373  ...   NaN    0.0     0.0        1     0      0.0  0.0   \n",
       "3  1 Stat. 369  ...   1.0    0.0     0.0        1     0      0.0  0.0   \n",
       "4   1 Stat. 73  ...   6.0    1.0     0.0        0     0      0.0  0.0   \n",
       "\n",
       "   gvt_prty  dissent  h_ct  \n",
       "0         1        0     0  \n",
       "1         0        0     1  \n",
       "2         1        0     1  \n",
       "3         1        0     1  \n",
       "4         0        0     0  \n",
       "\n",
       "[5 rows x 25 columns]"
      ]
     },
     "execution_count": 2,
     "metadata": {},
     "output_type": "execute_result"
    }
   ],
   "source": [
    "path = '../data/judicial_review_of_congress_database_1789-2018.xlsx'\n",
    "df = pd.read_excel(path)\n",
    "df.columns = df.columns.str.lower().str.replace(r'[ -]', '_')\n",
    "print(df.shape)\n",
    "df.head()"
   ]
  },
  {
   "cell_type": "code",
   "execution_count": 3,
   "metadata": {},
   "outputs": [],
   "source": [
    "def wrangle(X):\n",
    "    X = X.copy()\n",
    "    \n",
    "    # 'decision', 'decision2', and 'effect' contain target information\n",
    "    # 'citation', 'date', 'year', 'decade', and 'dissent' are not known until after a decision\n",
    "    # 'pl_#' congress info is duplicated in 'congress' and the other info is random\n",
    "    # 's_date' is dropped in favor of the slightly coarser 'congress' feature\n",
    "    # 'lndmark', 'lnddtl', and 'crs' are not relevant\n",
    "    \n",
    "    columns_to_drop = ['decision', 'decision2', 'effect', 'citation', 'date', 'year', 'decade',\n",
    "                       'dissent', 'pl_#', 's_date', 'lndmrk', 'lnddtl', 'crs']\n",
    "    \n",
    "    # Create features for cases in which the United States is the first or last party\n",
    "    X['us_first_party'] = X['case'].str.startswith('United States v', na=False).astype(int)\n",
    "    X['us_last_party'] = X['case'].str.endswith('v. United States', na=False).astype(int)\n",
    "    columns_to_drop.append('case')\n",
    "    \n",
    "    # 'reversd' is not known before a decision, but we can engineer a feature describing the lower court's decision\n",
    "    swap = X['reversd'] == 1\n",
    "    decision = X['decision2'] == 1\n",
    "    lower_court_decision = [not dec if swap else dec for dec, swap in zip(decision, swap)]\n",
    "    X['lower_court_decision'] = np.array(lower_court_decision).astype(int)\n",
    "    columns_to_drop.append('reversd')\n",
    "    \n",
    "    # For 'area2' values: keep 1 though 6, and add 7 in place of nulls\n",
    "    X['area2'] = X['area2'].fillna(value=7).astype(int)\n",
    "    \n",
    "    # Drop unnecessary or unknowable features\n",
    "    X = X.drop(columns=columns_to_drop)\n",
    "    \n",
    "    # return the wrangled dataframe\n",
    "    return X"
   ]
  },
  {
   "cell_type": "code",
   "execution_count": 4,
   "metadata": {},
   "outputs": [
    {
     "data": {
      "text/plain": [
       "((1000, 25), (308, 25))"
      ]
     },
     "execution_count": 4,
     "metadata": {},
     "output_type": "execute_result"
    }
   ],
   "source": [
    "# Leave 1,000 observations for cross-validation\n",
    "train, test = train_test_split(df, test_size=308, stratify=df['decision'], random_state=42)\n",
    "train.shape, test.shape"
   ]
  },
  {
   "cell_type": "code",
   "execution_count": 5,
   "metadata": {},
   "outputs": [
    {
     "data": {
      "text/plain": [
       "((1000, 13), (308, 13), (1000,), (308,))"
      ]
     },
     "execution_count": 5,
     "metadata": {},
     "output_type": "execute_result"
    }
   ],
   "source": [
    "# Create targets and wrangle dataframe. Note that the target is not dropped before\n",
    "# wrangling so that it can be used to create 'lower_court_decision' feature\n",
    "y_train = train['decision2']\n",
    "y_test = test['decision2']\n",
    "\n",
    "X_train = wrangle(train)\n",
    "X_test = wrangle(test)\n",
    "\n",
    "X_train.shape, X_test.shape, y_train.shape, y_test.shape"
   ]
  },
  {
   "cell_type": "code",
   "execution_count": 6,
   "metadata": {},
   "outputs": [
    {
     "data": {
      "text/plain": [
       "Pipeline(memory=None,\n",
       "         steps=[('ordinalencoder',\n",
       "                 OrdinalEncoder(cols=['stat_name', 'stat_cite'],\n",
       "                                drop_invariant=False, handle_missing='value',\n",
       "                                handle_unknown='value',\n",
       "                                mapping=[{'col': 'stat_name',\n",
       "                                          'data_type': dtype('O'),\n",
       "                                          'mapping': Revenue Act of 1925                                                                        1\n",
       "Hepburn Act (Interstate Commerce)                                                          2\n",
       "National Highway System Designation Act of 1995                                            3\n",
       "National Labor Relations Act                                                               4\n",
       "80 Stat. 378                                                                               5\n",
       "Pos...\n",
       "                ('randomforestclassifier',\n",
       "                 RandomForestClassifier(bootstrap=True, class_weight=None,\n",
       "                                        criterion='gini', max_depth=10,\n",
       "                                        max_features=5, max_leaf_nodes=None,\n",
       "                                        min_impurity_decrease=0.0,\n",
       "                                        min_impurity_split=None,\n",
       "                                        min_samples_leaf=1, min_samples_split=2,\n",
       "                                        min_weight_fraction_leaf=0.0,\n",
       "                                        n_estimators=60, n_jobs=None,\n",
       "                                        oob_score=True, random_state=42,\n",
       "                                        verbose=0, warm_start=False))],\n",
       "         verbose=False)"
      ]
     },
     "execution_count": 6,
     "metadata": {},
     "output_type": "execute_result"
    }
   ],
   "source": [
    "pipeline = make_pipeline(\n",
    "    ce.OrdinalEncoder(),\n",
    "    RandomForestClassifier(n_estimators=60, oob_score=True, random_state=42, max_depth=10, max_features=5)\n",
    ")\n",
    "\n",
    "pipeline.fit(X_train, y_train)"
   ]
  },
  {
   "cell_type": "code",
   "execution_count": 7,
   "metadata": {},
   "outputs": [
    {
     "data": {
      "text/plain": [
       "['pipeline.joblib']"
      ]
     },
     "execution_count": 7,
     "metadata": {},
     "output_type": "execute_result"
    }
   ],
   "source": [
    "from joblib import dump\n",
    "dump(pipeline, 'pipeline.joblib')"
   ]
  },
  {
   "cell_type": "code",
   "execution_count": 8,
   "metadata": {},
   "outputs": [],
   "source": [
    "# simple one feature model for testing\n",
    "df_1 = X_train['area1']"
   ]
  },
  {
   "cell_type": "code",
   "execution_count": 9,
   "metadata": {},
   "outputs": [
    {
     "data": {
      "text/plain": [
       "500     4\n",
       "326     4\n",
       "1239    5\n",
       "630     6\n",
       "922     2\n",
       "Name: area1, dtype: int64"
      ]
     },
     "execution_count": 9,
     "metadata": {},
     "output_type": "execute_result"
    }
   ],
   "source": [
    "df_1.head()"
   ]
  },
  {
   "cell_type": "code",
   "execution_count": 10,
   "metadata": {},
   "outputs": [
    {
     "data": {
      "text/plain": [
       "Pipeline(memory=None,\n",
       "         steps=[('ordinalencoder',\n",
       "                 OrdinalEncoder(cols=[], drop_invariant=False,\n",
       "                                handle_missing='value', handle_unknown='value',\n",
       "                                mapping=[], return_df=True, verbose=0)),\n",
       "                ('randomforestclassifier',\n",
       "                 RandomForestClassifier(bootstrap=True, class_weight=None,\n",
       "                                        criterion='gini', max_depth=None,\n",
       "                                        max_features='auto',\n",
       "                                        max_leaf_nodes=None,\n",
       "                                        min_impurity_decrease=0.0,\n",
       "                                        min_impurity_split=None,\n",
       "                                        min_samples_leaf=1, min_samples_split=2,\n",
       "                                        min_weight_fraction_leaf=0.0,\n",
       "                                        n_estimators=60, n_jobs=None,\n",
       "                                        oob_score=False, random_state=42,\n",
       "                                        verbose=0, warm_start=False))],\n",
       "         verbose=False)"
      ]
     },
     "execution_count": 10,
     "metadata": {},
     "output_type": "execute_result"
    }
   ],
   "source": [
    "pipeline_1 = make_pipeline(\n",
    "    ce.OrdinalEncoder(),\n",
    "    RandomForestClassifier(n_estimators=60, random_state=42)\n",
    ")\n",
    "\n",
    "pipeline_1.fit(df_1, y_train)"
   ]
  },
  {
   "cell_type": "code",
   "execution_count": 11,
   "metadata": {},
   "outputs": [
    {
     "data": {
      "text/plain": [
       "['pipeline_1.joblib']"
      ]
     },
     "execution_count": 11,
     "metadata": {},
     "output_type": "execute_result"
    }
   ],
   "source": [
    "from joblib import dump\n",
    "dump(pipeline_1, 'pipeline_1.joblib')"
   ]
  },
  {
   "cell_type": "code",
   "execution_count": null,
   "metadata": {},
   "outputs": [],
   "source": []
  },
  {
   "cell_type": "code",
   "execution_count": 12,
   "metadata": {},
   "outputs": [],
   "source": [
    "# simple two feature model for testing\n",
    "df_2 = X_train[['area1', 'lower_court_decision']]"
   ]
  },
  {
   "cell_type": "code",
   "execution_count": 13,
   "metadata": {},
   "outputs": [
    {
     "data": {
      "text/html": [
       "<div>\n",
       "<style scoped>\n",
       "    .dataframe tbody tr th:only-of-type {\n",
       "        vertical-align: middle;\n",
       "    }\n",
       "\n",
       "    .dataframe tbody tr th {\n",
       "        vertical-align: top;\n",
       "    }\n",
       "\n",
       "    .dataframe thead th {\n",
       "        text-align: right;\n",
       "    }\n",
       "</style>\n",
       "<table border=\"1\" class=\"dataframe\">\n",
       "  <thead>\n",
       "    <tr style=\"text-align: right;\">\n",
       "      <th></th>\n",
       "      <th>area1</th>\n",
       "      <th>lower_court_decision</th>\n",
       "    </tr>\n",
       "  </thead>\n",
       "  <tbody>\n",
       "    <tr>\n",
       "      <th>500</th>\n",
       "      <td>4</td>\n",
       "      <td>1</td>\n",
       "    </tr>\n",
       "    <tr>\n",
       "      <th>326</th>\n",
       "      <td>4</td>\n",
       "      <td>1</td>\n",
       "    </tr>\n",
       "    <tr>\n",
       "      <th>1239</th>\n",
       "      <td>5</td>\n",
       "      <td>1</td>\n",
       "    </tr>\n",
       "    <tr>\n",
       "      <th>630</th>\n",
       "      <td>6</td>\n",
       "      <td>0</td>\n",
       "    </tr>\n",
       "    <tr>\n",
       "      <th>922</th>\n",
       "      <td>2</td>\n",
       "      <td>1</td>\n",
       "    </tr>\n",
       "  </tbody>\n",
       "</table>\n",
       "</div>"
      ],
      "text/plain": [
       "      area1  lower_court_decision\n",
       "500       4                     1\n",
       "326       4                     1\n",
       "1239      5                     1\n",
       "630       6                     0\n",
       "922       2                     1"
      ]
     },
     "execution_count": 13,
     "metadata": {},
     "output_type": "execute_result"
    }
   ],
   "source": [
    "df_2.head()"
   ]
  },
  {
   "cell_type": "code",
   "execution_count": 14,
   "metadata": {},
   "outputs": [
    {
     "data": {
      "text/plain": [
       "Pipeline(memory=None,\n",
       "         steps=[('ordinalencoder',\n",
       "                 OrdinalEncoder(cols=[], drop_invariant=False,\n",
       "                                handle_missing='value', handle_unknown='value',\n",
       "                                mapping=[], return_df=True, verbose=0)),\n",
       "                ('randomforestclassifier',\n",
       "                 RandomForestClassifier(bootstrap=True, class_weight=None,\n",
       "                                        criterion='gini', max_depth=None,\n",
       "                                        max_features='auto',\n",
       "                                        max_leaf_nodes=None,\n",
       "                                        min_impurity_decrease=0.0,\n",
       "                                        min_impurity_split=None,\n",
       "                                        min_samples_leaf=1, min_samples_split=2,\n",
       "                                        min_weight_fraction_leaf=0.0,\n",
       "                                        n_estimators=60, n_jobs=None,\n",
       "                                        oob_score=False, random_state=42,\n",
       "                                        verbose=0, warm_start=False))],\n",
       "         verbose=False)"
      ]
     },
     "execution_count": 14,
     "metadata": {},
     "output_type": "execute_result"
    }
   ],
   "source": [
    "pipeline_2 = make_pipeline(\n",
    "    ce.OrdinalEncoder(),\n",
    "    RandomForestClassifier(n_estimators=60, random_state=42)\n",
    ")\n",
    "\n",
    "pipeline_2.fit(df_2, y_train)"
   ]
  },
  {
   "cell_type": "code",
   "execution_count": 15,
   "metadata": {},
   "outputs": [
    {
     "data": {
      "text/plain": [
       "['pipeline_2.joblib']"
      ]
     },
     "execution_count": 15,
     "metadata": {},
     "output_type": "execute_result"
    }
   ],
   "source": [
    "from joblib import dump\n",
    "dump(pipeline_2, 'pipeline_2.joblib')"
   ]
  },
  {
   "cell_type": "code",
   "execution_count": 16,
   "metadata": {},
   "outputs": [],
   "source": [
    "#make charts\n",
    "ax = train['year'].plot.hist(bins=22, title='Federal Cases Decided by the Supreme Court')\n",
    "ax.set_xlabel(\"Year\");\n",
    "fig = ax.get_figure()\n",
    "fig.savefig('./cases_per_year.jpg')"
   ]
  },
  {
   "cell_type": "code",
   "execution_count": 17,
   "metadata": {},
   "outputs": [
    {
     "data": {
      "text/html": [
       "<div>\n",
       "<style scoped>\n",
       "    .dataframe tbody tr th:only-of-type {\n",
       "        vertical-align: middle;\n",
       "    }\n",
       "\n",
       "    .dataframe tbody tr th {\n",
       "        vertical-align: top;\n",
       "    }\n",
       "\n",
       "    .dataframe thead th {\n",
       "        text-align: right;\n",
       "    }\n",
       "</style>\n",
       "<table border=\"1\" class=\"dataframe\">\n",
       "  <thead>\n",
       "    <tr style=\"text-align: right;\">\n",
       "      <th></th>\n",
       "      <th>area1</th>\n",
       "      <th>constitutional</th>\n",
       "      <th>unconstitional</th>\n",
       "    </tr>\n",
       "  </thead>\n",
       "  <tbody>\n",
       "    <tr>\n",
       "      <th>500</th>\n",
       "      <td>Economic</td>\n",
       "      <td>0</td>\n",
       "      <td>1</td>\n",
       "    </tr>\n",
       "    <tr>\n",
       "      <th>326</th>\n",
       "      <td>Economic</td>\n",
       "      <td>1</td>\n",
       "      <td>0</td>\n",
       "    </tr>\n",
       "    <tr>\n",
       "      <th>1239</th>\n",
       "      <td>Federalism</td>\n",
       "      <td>1</td>\n",
       "      <td>0</td>\n",
       "    </tr>\n",
       "    <tr>\n",
       "      <th>630</th>\n",
       "      <td>Separation of Powers</td>\n",
       "      <td>1</td>\n",
       "      <td>0</td>\n",
       "    </tr>\n",
       "    <tr>\n",
       "      <th>922</th>\n",
       "      <td>Substantive Rights</td>\n",
       "      <td>1</td>\n",
       "      <td>0</td>\n",
       "    </tr>\n",
       "  </tbody>\n",
       "</table>\n",
       "</div>"
      ],
      "text/plain": [
       "                     area1  constitutional  unconstitional\n",
       "500               Economic               0               1\n",
       "326               Economic               1               0\n",
       "1239            Federalism               1               0\n",
       "630   Separation of Powers               1               0\n",
       "922     Substantive Rights               1               0"
      ]
     },
     "execution_count": 17,
     "metadata": {},
     "output_type": "execute_result"
    }
   ],
   "source": [
    "areas = train[['area1', 'decision2']].copy()\n",
    "areas['constitutional'] = areas['decision2'] == 0\n",
    "areas['unconstitional'] = areas['decision2']\n",
    "areas.drop(columns='decision2', inplace=True)\n",
    "areas['constitutional'] = areas['constitutional'].astype('int')\n",
    "names = {1: 'Due Process', 2: 'Substantive Rights', 3: 'Equality', 4: 'Economic', 5: 'Federalism', 6: 'Separation of Powers'}\n",
    "areas['area1'] = areas['area1'].replace(names)\n",
    "areas.head()"
   ]
  },
  {
   "cell_type": "code",
   "execution_count": 18,
   "metadata": {},
   "outputs": [
    {
     "data": {
      "text/html": [
       "<div>\n",
       "<style scoped>\n",
       "    .dataframe tbody tr th:only-of-type {\n",
       "        vertical-align: middle;\n",
       "    }\n",
       "\n",
       "    .dataframe tbody tr th {\n",
       "        vertical-align: top;\n",
       "    }\n",
       "\n",
       "    .dataframe thead th {\n",
       "        text-align: right;\n",
       "    }\n",
       "</style>\n",
       "<table border=\"1\" class=\"dataframe\">\n",
       "  <thead>\n",
       "    <tr style=\"text-align: right;\">\n",
       "      <th></th>\n",
       "      <th>constitutional</th>\n",
       "      <th>unconstitional</th>\n",
       "    </tr>\n",
       "    <tr>\n",
       "      <th>area1</th>\n",
       "      <th></th>\n",
       "      <th></th>\n",
       "    </tr>\n",
       "  </thead>\n",
       "  <tbody>\n",
       "    <tr>\n",
       "      <th>Due Process</th>\n",
       "      <td>174</td>\n",
       "      <td>72</td>\n",
       "    </tr>\n",
       "    <tr>\n",
       "      <th>Economic</th>\n",
       "      <td>182</td>\n",
       "      <td>45</td>\n",
       "    </tr>\n",
       "    <tr>\n",
       "      <th>Equality</th>\n",
       "      <td>23</td>\n",
       "      <td>13</td>\n",
       "    </tr>\n",
       "    <tr>\n",
       "      <th>Federalism</th>\n",
       "      <td>186</td>\n",
       "      <td>48</td>\n",
       "    </tr>\n",
       "    <tr>\n",
       "      <th>Separation of Powers</th>\n",
       "      <td>97</td>\n",
       "      <td>34</td>\n",
       "    </tr>\n",
       "    <tr>\n",
       "      <th>Substantive Rights</th>\n",
       "      <td>74</td>\n",
       "      <td>52</td>\n",
       "    </tr>\n",
       "  </tbody>\n",
       "</table>\n",
       "</div>"
      ],
      "text/plain": [
       "                      constitutional  unconstitional\n",
       "area1                                               \n",
       "Due Process                      174              72\n",
       "Economic                         182              45\n",
       "Equality                          23              13\n",
       "Federalism                       186              48\n",
       "Separation of Powers              97              34\n",
       "Substantive Rights                74              52"
      ]
     },
     "execution_count": 18,
     "metadata": {},
     "output_type": "execute_result"
    }
   ],
   "source": [
    "pt = pd.pivot_table(areas, values=['constitutional', 'unconstitional'], index='area1', aggfunc=np.sum)\n",
    "pt"
   ]
  },
  {
   "cell_type": "code",
   "execution_count": 19,
   "metadata": {},
   "outputs": [
    {
     "data": {
      "image/png": "[encoded data removed]",
      "text/plain": [
       "<Figure size 432x288 with 1 Axes>"
      ]
     },
     "metadata": {
      "needs_background": "light"
     },
     "output_type": "display_data"
    }
   ],
   "source": [
    "ax = pt.plot.barh(title='Constitutional Issues');\n",
    "ax.set_xlabel(\"Number of Cases\");\n",
    "fig = ax.get_figure()\n",
    "fig.savefig('./cases_per_issue.jpg')"
   ]
  },
  {
   "cell_type": "code",
   "execution_count": 20,
   "metadata": {},
   "outputs": [
    {
     "data": {
      "text/html": [
       "<div>\n",
       "<style scoped>\n",
       "    .dataframe tbody tr th:only-of-type {\n",
       "        vertical-align: middle;\n",
       "    }\n",
       "\n",
       "    .dataframe tbody tr th {\n",
       "        vertical-align: top;\n",
       "    }\n",
       "\n",
       "    .dataframe thead th {\n",
       "        text-align: right;\n",
       "    }\n",
       "</style>\n",
       "<table border=\"1\" class=\"dataframe\">\n",
       "  <thead>\n",
       "    <tr style=\"text-align: right;\">\n",
       "      <th></th>\n",
       "      <th>area1</th>\n",
       "      <th>lower_court_decision</th>\n",
       "      <th>congress</th>\n",
       "    </tr>\n",
       "  </thead>\n",
       "  <tbody>\n",
       "    <tr>\n",
       "      <th>500</th>\n",
       "      <td>4</td>\n",
       "      <td>1</td>\n",
       "      <td>69</td>\n",
       "    </tr>\n",
       "    <tr>\n",
       "      <th>326</th>\n",
       "      <td>4</td>\n",
       "      <td>1</td>\n",
       "      <td>59</td>\n",
       "    </tr>\n",
       "    <tr>\n",
       "      <th>1239</th>\n",
       "      <td>5</td>\n",
       "      <td>1</td>\n",
       "      <td>104</td>\n",
       "    </tr>\n",
       "    <tr>\n",
       "      <th>630</th>\n",
       "      <td>6</td>\n",
       "      <td>0</td>\n",
       "      <td>74</td>\n",
       "    </tr>\n",
       "    <tr>\n",
       "      <th>922</th>\n",
       "      <td>2</td>\n",
       "      <td>1</td>\n",
       "      <td>89</td>\n",
       "    </tr>\n",
       "  </tbody>\n",
       "</table>\n",
       "</div>"
      ],
      "text/plain": [
       "      area1  lower_court_decision  congress\n",
       "500       4                     1        69\n",
       "326       4                     1        59\n",
       "1239      5                     1       104\n",
       "630       6                     0        74\n",
       "922       2                     1        89"
      ]
     },
     "execution_count": 20,
     "metadata": {},
     "output_type": "execute_result"
    }
   ],
   "source": [
    "# simple three feature model for testing\n",
    "df_3 = X_train[['area1', 'lower_court_decision', 'congress']]\n",
    "df_3.head()"
   ]
  },
  {
   "cell_type": "code",
   "execution_count": 21,
   "metadata": {},
   "outputs": [
    {
     "data": {
      "text/plain": [
       "['pipeline_3.joblib']"
      ]
     },
     "execution_count": 21,
     "metadata": {},
     "output_type": "execute_result"
    }
   ],
   "source": [
    "pipeline_3 = make_pipeline(\n",
    "    ce.OrdinalEncoder(),\n",
    "    RandomForestClassifier(n_estimators=60, random_state=42)\n",
    ")\n",
    "\n",
    "pipeline_3.fit(df_3, y_train)\n",
    "\n",
    "dump(pipeline_3, 'pipeline_3.joblib')"
   ]
  }
 ],
 "metadata": {
  "kernelspec": {
   "display_name": "Python 3",
   "language": "python",
   "name": "python3"
  },
  "language_info": {
   "codemirror_mode": {
    "name": "ipython",
    "version": 3
   },
   "file_extension": ".py",
   "mimetype": "text/x-python",
   "name": "python",
   "nbconvert_exporter": "python",
   "pygments_lexer": "ipython3",
   "version": "3.7.3"
  }
 },
 "nbformat": 4,
 "nbformat_minor": 4
}
