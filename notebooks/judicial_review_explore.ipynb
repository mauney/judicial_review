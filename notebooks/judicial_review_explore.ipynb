{
 "cells": [
  {
   "cell_type": "code",
   "execution_count": 1,
   "metadata": {},
   "outputs": [],
   "source": [
    "import numpy as np\n",
    "import pandas as pd\n",
    "import matplotlib.pyplot as plt"
   ]
  },
  {
   "cell_type": "code",
   "execution_count": 2,
   "metadata": {},
   "outputs": [
    {
     "name": "stdout",
     "output_type": "stream",
     "text": [
      "(1308, 25)\n"
     ]
    },
    {
     "data": {
      "text/html": [
       "<div>\n",
       "<style scoped>\n",
       "    .dataframe tbody tr th:only-of-type {\n",
       "        vertical-align: middle;\n",
       "    }\n",
       "\n",
       "    .dataframe tbody tr th {\n",
       "        vertical-align: top;\n",
       "    }\n",
       "\n",
       "    .dataframe thead th {\n",
       "        text-align: right;\n",
       "    }\n",
       "</style>\n",
       "<table border=\"1\" class=\"dataframe\">\n",
       "  <thead>\n",
       "    <tr style=\"text-align: right;\">\n",
       "      <th></th>\n",
       "      <th>case</th>\n",
       "      <th>citation</th>\n",
       "      <th>date</th>\n",
       "      <th>year</th>\n",
       "      <th>decade</th>\n",
       "      <th>decision</th>\n",
       "      <th>decision2</th>\n",
       "      <th>effect</th>\n",
       "      <th>stat_name</th>\n",
       "      <th>stat_cite</th>\n",
       "      <th>...</th>\n",
       "      <th>area2</th>\n",
       "      <th>lndmrk</th>\n",
       "      <th>lnddtl</th>\n",
       "      <th>att_gen</th>\n",
       "      <th>cert</th>\n",
       "      <th>reversd</th>\n",
       "      <th>crs</th>\n",
       "      <th>gvt_prty</th>\n",
       "      <th>dissent</th>\n",
       "      <th>h_ct</th>\n",
       "    </tr>\n",
       "  </thead>\n",
       "  <tbody>\n",
       "    <tr>\n",
       "      <th>0</th>\n",
       "      <td>United States v. Yale Todd</td>\n",
       "      <td>*54 U.S. 40, 52</td>\n",
       "      <td>2/17/1794</td>\n",
       "      <td>1794</td>\n",
       "      <td>1790</td>\n",
       "      <td>2</td>\n",
       "      <td>1</td>\n",
       "      <td>struck down on face</td>\n",
       "      <td>Invalid Pensions Act</td>\n",
       "      <td>1 Stat. 243</td>\n",
       "      <td>...</td>\n",
       "      <td>NaN</td>\n",
       "      <td>0.0</td>\n",
       "      <td>0.0</td>\n",
       "      <td>1</td>\n",
       "      <td>0</td>\n",
       "      <td>0.0</td>\n",
       "      <td>0.0</td>\n",
       "      <td>1</td>\n",
       "      <td>0</td>\n",
       "      <td>0</td>\n",
       "    </tr>\n",
       "    <tr>\n",
       "      <th>1</th>\n",
       "      <td>Penhallow v. Doane's Adm'rs</td>\n",
       "      <td>003 U.S. 054</td>\n",
       "      <td>2/24/1795</td>\n",
       "      <td>1795</td>\n",
       "      <td>1790</td>\n",
       "      <td>0</td>\n",
       "      <td>0</td>\n",
       "      <td>upheld</td>\n",
       "      <td>Court of Appeals Resolution</td>\n",
       "      <td>17 JCC 459</td>\n",
       "      <td>...</td>\n",
       "      <td>NaN</td>\n",
       "      <td>0.0</td>\n",
       "      <td>0.0</td>\n",
       "      <td>1</td>\n",
       "      <td>0</td>\n",
       "      <td>1.0</td>\n",
       "      <td>0.0</td>\n",
       "      <td>0</td>\n",
       "      <td>0</td>\n",
       "      <td>1</td>\n",
       "    </tr>\n",
       "    <tr>\n",
       "      <th>2</th>\n",
       "      <td>Hylton v. United States</td>\n",
       "      <td>003 U.S. 171</td>\n",
       "      <td>3/8/1796</td>\n",
       "      <td>1796</td>\n",
       "      <td>1790</td>\n",
       "      <td>0</td>\n",
       "      <td>0</td>\n",
       "      <td>upheld</td>\n",
       "      <td>Carriage Tax Act</td>\n",
       "      <td>1 Stat. 373</td>\n",
       "      <td>...</td>\n",
       "      <td>NaN</td>\n",
       "      <td>0.0</td>\n",
       "      <td>0.0</td>\n",
       "      <td>1</td>\n",
       "      <td>0</td>\n",
       "      <td>0.0</td>\n",
       "      <td>0.0</td>\n",
       "      <td>1</td>\n",
       "      <td>0</td>\n",
       "      <td>1</td>\n",
       "    </tr>\n",
       "    <tr>\n",
       "      <th>3</th>\n",
       "      <td>United States v. La Vengeance</td>\n",
       "      <td>003 U.S. 297</td>\n",
       "      <td>8/11/1796</td>\n",
       "      <td>1796</td>\n",
       "      <td>1790</td>\n",
       "      <td>0</td>\n",
       "      <td>0</td>\n",
       "      <td>upheld</td>\n",
       "      <td>Arms Exportation Act</td>\n",
       "      <td>1 Stat. 369</td>\n",
       "      <td>...</td>\n",
       "      <td>1.0</td>\n",
       "      <td>0.0</td>\n",
       "      <td>0.0</td>\n",
       "      <td>1</td>\n",
       "      <td>0</td>\n",
       "      <td>0.0</td>\n",
       "      <td>0.0</td>\n",
       "      <td>1</td>\n",
       "      <td>0</td>\n",
       "      <td>1</td>\n",
       "    </tr>\n",
       "    <tr>\n",
       "      <th>4</th>\n",
       "      <td>Mossman v. Higginson</td>\n",
       "      <td>004 U.S. 12</td>\n",
       "      <td>8/11/1800</td>\n",
       "      <td>1800</td>\n",
       "      <td>1800</td>\n",
       "      <td>1</td>\n",
       "      <td>1</td>\n",
       "      <td>struck down as applied</td>\n",
       "      <td>Judiciary Act of 1789</td>\n",
       "      <td>1 Stat. 73</td>\n",
       "      <td>...</td>\n",
       "      <td>6.0</td>\n",
       "      <td>1.0</td>\n",
       "      <td>0.0</td>\n",
       "      <td>0</td>\n",
       "      <td>0</td>\n",
       "      <td>0.0</td>\n",
       "      <td>0.0</td>\n",
       "      <td>0</td>\n",
       "      <td>0</td>\n",
       "      <td>0</td>\n",
       "    </tr>\n",
       "  </tbody>\n",
       "</table>\n",
       "<p>5 rows × 25 columns</p>\n",
       "</div>"
      ],
      "text/plain": [
       "                            case         citation       date  year  decade  \\\n",
       "0     United States v. Yale Todd  *54 U.S. 40, 52  2/17/1794  1794    1790   \n",
       "1    Penhallow v. Doane's Adm'rs     003 U.S. 054  2/24/1795  1795    1790   \n",
       "2        Hylton v. United States     003 U.S. 171   3/8/1796  1796    1790   \n",
       "3  United States v. La Vengeance     003 U.S. 297  8/11/1796  1796    1790   \n",
       "4           Mossman v. Higginson      004 U.S. 12  8/11/1800  1800    1800   \n",
       "\n",
       "   decision  decision2                  effect                    stat_name  \\\n",
       "0         2          1     struck down on face         Invalid Pensions Act   \n",
       "1         0          0                  upheld  Court of Appeals Resolution   \n",
       "2         0          0                  upheld             Carriage Tax Act   \n",
       "3         0          0                  upheld         Arms Exportation Act   \n",
       "4         1          1  struck down as applied        Judiciary Act of 1789   \n",
       "\n",
       "     stat_cite  ... area2 lndmrk  lnddtl  att_gen  cert  reversd  crs  \\\n",
       "0  1 Stat. 243  ...   NaN    0.0     0.0        1     0      0.0  0.0   \n",
       "1   17 JCC 459  ...   NaN    0.0     0.0        1     0      1.0  0.0   \n",
       "2  1 Stat. 373  ...   NaN    0.0     0.0        1     0      0.0  0.0   \n",
       "3  1 Stat. 369  ...   1.0    0.0     0.0        1     0      0.0  0.0   \n",
       "4   1 Stat. 73  ...   6.0    1.0     0.0        0     0      0.0  0.0   \n",
       "\n",
       "   gvt_prty  dissent  h_ct  \n",
       "0         1        0     0  \n",
       "1         0        0     1  \n",
       "2         1        0     1  \n",
       "3         1        0     1  \n",
       "4         0        0     0  \n",
       "\n",
       "[5 rows x 25 columns]"
      ]
     },
     "execution_count": 2,
     "metadata": {},
     "output_type": "execute_result"
    }
   ],
   "source": [
    "path = '../data/judicial_review_of_congress_database_1789-2018.xlsx'\n",
    "# columns = ['YEAR', 'DECISION2', 'TIME TO DECISION', 'CONGRESS', 'AREA1',\n",
    "#            'AREA2', 'ATT GEN', 'CERT', 'REVERSD', 'GVT PRTY', 'H-CT']\n",
    "jr = pd.read_excel(path) #, usecols=columns)\n",
    "jr.columns = jr.columns.str.lower().str.replace(r'[ -]', '_')\n",
    "print(jr.shape)\n",
    "jr.head()"
   ]
  },
  {
   "cell_type": "code",
   "execution_count": 3,
   "metadata": {},
   "outputs": [],
   "source": [
    "full = jr.copy()"
   ]
  },
  {
   "cell_type": "code",
   "execution_count": 5,
   "metadata": {},
   "outputs": [],
   "source": [
    "import pandas_profiling"
   ]
  },
  {
   "cell_type": "code",
   "execution_count": null,
   "metadata": {},
   "outputs": [],
   "source": [
    "%%time\n",
    "profile = full.profile_report(title='Judical Review Profile')\n",
    "profile.to_file(output_file='judical_review_full_pandas_profile.html')"
   ]
  },
  {
   "cell_type": "code",
   "execution_count": null,
   "metadata": {},
   "outputs": [],
   "source": []
  },
  {
   "cell_type": "code",
   "execution_count": null,
   "metadata": {},
   "outputs": [],
   "source": [
    "# baseline for classification\n",
    "target='decision2'\n",
    "jr[target].value_counts(normalize=True, dropna=False)"
   ]
  },
  {
   "cell_type": "code",
   "execution_count": null,
   "metadata": {},
   "outputs": [],
   "source": [
    "jr.describe()"
   ]
  },
  {
   "cell_type": "code",
   "execution_count": null,
   "metadata": {},
   "outputs": [],
   "source": [
    "jr = jr.dropna(subset=['reversd'])\n",
    "jr.shape"
   ]
  },
  {
   "cell_type": "code",
   "execution_count": null,
   "metadata": {},
   "outputs": [],
   "source": [
    "# split into train, validate, and test sets using 70/15/15\n",
    "from sklearn.model_selection import train_test_split\n",
    "\n",
    "train, val_test = train_test_split(jr, train_size=0.7, test_size=0.3,\n",
    "                                  stratify=jr['decision2'], random_state=42)\n",
    "\n",
    "val, test = train_test_split(val_test, train_size=0.5, test_size=0.5,\n",
    "                                  stratify=val_test['decision2'], random_state=42)\n",
    "\n",
    "train.shape, val.shape, test.shape"
   ]
  },
  {
   "cell_type": "code",
   "execution_count": null,
   "metadata": {},
   "outputs": [],
   "source": [
    "X_train = train.drop(columns=target)\n",
    "X_val = val.drop(columns=target)\n",
    "X_test = test.drop(columns=target)\n",
    "\n",
    "y_train = train[target]\n",
    "y_val = val[target]\n",
    "y_test = test[target]"
   ]
  },
  {
   "cell_type": "code",
   "execution_count": null,
   "metadata": {},
   "outputs": [],
   "source": [
    "import xgboost as xgb\n",
    "xgb.__version__"
   ]
  },
  {
   "cell_type": "code",
   "execution_count": null,
   "metadata": {},
   "outputs": [],
   "source": [
    "# gradient boosting\n",
    "import category_encoders as ce\n",
    "from sklearn.pipeline import make_pipeline\n",
    "\n",
    "pipeline = make_pipeline(\n",
    "    ce.OneHotEncoder(cols=['area1', 'area2']),\n",
    "    xgb.XGBClassifier(n_estimators=100, n_jobs=-1, random_state=42)\n",
    ")\n",
    "\n",
    "pipeline.fit(X_train, y_train)"
   ]
  },
  {
   "cell_type": "code",
   "execution_count": null,
   "metadata": {},
   "outputs": [],
   "source": [
    "print('Validation Accuracy', pipeline.score(X_val, y_val))"
   ]
  },
  {
   "cell_type": "code",
   "execution_count": null,
   "metadata": {},
   "outputs": [],
   "source": [
    "y_proba = pipeline.predict_proba(X_val)"
   ]
  },
  {
   "cell_type": "code",
   "execution_count": null,
   "metadata": {},
   "outputs": [],
   "source": [
    "from sklearn.metrics import roc_auc_score\n",
    "roc_auc_score(y_val, y_proba[:, 1])"
   ]
  },
  {
   "cell_type": "code",
   "execution_count": null,
   "metadata": {},
   "outputs": [],
   "source": [
    "# confusion matrix\n",
    "from sklearn.metrics import confusion_matrix\n",
    "from sklearn.utils.multiclass import unique_labels\n",
    "import seaborn as sns\n",
    "y_pred = pipeline.predict(X_val)"
   ]
  },
  {
   "cell_type": "code",
   "execution_count": null,
   "metadata": {},
   "outputs": [],
   "source": [
    "# plot a heatmap\n",
    "def plot_confusion_matrix(y_true, y_pred):\n",
    "    labels = unique_labels(y_true)\n",
    "    columns = [f'Predicted {label}' for label in labels]\n",
    "    index = [f'Actual {label}' for label in labels]\n",
    "    table = pd.DataFrame(confusion_matrix(y_true, y_pred),\n",
    "                        columns=columns, index=index)\n",
    "    return sns.heatmap(table, annot=True, fmt='.0f', cmap='viridis')\n",
    "\n",
    "plot_confusion_matrix(y_val, y_pred);"
   ]
  },
  {
   "cell_type": "code",
   "execution_count": null,
   "metadata": {},
   "outputs": [],
   "source": [
    "from sklearn.metrics import classification_report\n",
    "print(classification_report(y_val, y_pred))"
   ]
  },
  {
   "cell_type": "code",
   "execution_count": null,
   "metadata": {},
   "outputs": [],
   "source": []
  }
 ],
 "metadata": {
  "kernelspec": {
   "display_name": "Python 3",
   "language": "python",
   "name": "python3"
  },
  "language_info": {
   "codemirror_mode": {
    "name": "ipython",
    "version": 3
   },
   "file_extension": ".py",
   "mimetype": "text/x-python",
   "name": "python",
   "nbconvert_exporter": "python",
   "pygments_lexer": "ipython3",
   "version": "3.7.3"
  }
 },
 "nbformat": 4,
 "nbformat_minor": 4
}
